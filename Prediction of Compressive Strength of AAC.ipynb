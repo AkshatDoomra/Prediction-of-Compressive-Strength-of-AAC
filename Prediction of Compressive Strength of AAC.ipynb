{
 "cells": [
  {
   "cell_type": "markdown",
   "id": "c01ddc01",
   "metadata": {},
   "source": [
    "# linear Regression"
   ]
  },
  {
   "cell_type": "code",
   "execution_count": 1,
   "id": "53baff27",
   "metadata": {},
   "outputs": [],
   "source": [
    "import numpy as np\n",
    "import matplotlib.pyplot as plt\n",
    "import pandas as pd\n",
    "import seaborn as sns\n",
    "%matplotlib inline"
   ]
  },
  {
   "cell_type": "code",
   "execution_count": 2,
   "id": "f09a0a21",
   "metadata": {
    "scrolled": true
   },
   "outputs": [
    {
     "data": {
      "text/html": [
       "<div>\n",
       "<style scoped>\n",
       "    .dataframe tbody tr th:only-of-type {\n",
       "        vertical-align: middle;\n",
       "    }\n",
       "\n",
       "    .dataframe tbody tr th {\n",
       "        vertical-align: top;\n",
       "    }\n",
       "\n",
       "    .dataframe thead th {\n",
       "        text-align: right;\n",
       "    }\n",
       "</style>\n",
       "<table border=\"1\" class=\"dataframe\">\n",
       "  <thead>\n",
       "    <tr style=\"text-align: right;\">\n",
       "      <th></th>\n",
       "      <th>Na2O%</th>\n",
       "      <th>Ms</th>\n",
       "      <th>W/B</th>\n",
       "      <th>SA (m²/kg)</th>\n",
       "      <th>Kb</th>\n",
       "      <th>28d</th>\n",
       "    </tr>\n",
       "  </thead>\n",
       "  <tbody>\n",
       "    <tr>\n",
       "      <th>0</th>\n",
       "      <td>4.0</td>\n",
       "      <td>0.75</td>\n",
       "      <td>0.47</td>\n",
       "      <td>527</td>\n",
       "      <td>0.96</td>\n",
       "      <td>43.80</td>\n",
       "    </tr>\n",
       "    <tr>\n",
       "      <th>1</th>\n",
       "      <td>4.0</td>\n",
       "      <td>1.00</td>\n",
       "      <td>0.47</td>\n",
       "      <td>527</td>\n",
       "      <td>0.96</td>\n",
       "      <td>48.96</td>\n",
       "    </tr>\n",
       "    <tr>\n",
       "      <th>2</th>\n",
       "      <td>4.0</td>\n",
       "      <td>1.50</td>\n",
       "      <td>0.47</td>\n",
       "      <td>527</td>\n",
       "      <td>0.96</td>\n",
       "      <td>48.05</td>\n",
       "    </tr>\n",
       "    <tr>\n",
       "      <th>3</th>\n",
       "      <td>4.0</td>\n",
       "      <td>2.00</td>\n",
       "      <td>0.47</td>\n",
       "      <td>527</td>\n",
       "      <td>0.96</td>\n",
       "      <td>33.44</td>\n",
       "    </tr>\n",
       "    <tr>\n",
       "      <th>4</th>\n",
       "      <td>6.0</td>\n",
       "      <td>0.75</td>\n",
       "      <td>0.47</td>\n",
       "      <td>527</td>\n",
       "      <td>0.96</td>\n",
       "      <td>46.71</td>\n",
       "    </tr>\n",
       "  </tbody>\n",
       "</table>\n",
       "</div>"
      ],
      "text/plain": [
       "   Na2O%    Ms   W/B  SA (m²/kg)    Kb    28d\n",
       "0    4.0  0.75  0.47         527  0.96  43.80\n",
       "1    4.0  1.00  0.47         527  0.96  48.96\n",
       "2    4.0  1.50  0.47         527  0.96  48.05\n",
       "3    4.0  2.00  0.47         527  0.96  33.44\n",
       "4    6.0  0.75  0.47         527  0.96  46.71"
      ]
     },
     "execution_count": 2,
     "metadata": {},
     "output_type": "execute_result"
    }
   ],
   "source": [
    "AlkaliLoadData = pd.read_csv(\"C:/Users/aksha/OneDrive/Desktop/alkaliData.csv\", encoding='unicode_escape')\n",
    "AlkaliLoadData.head()"
   ]
  },
  {
   "cell_type": "code",
   "execution_count": 3,
   "id": "a7237e5b",
   "metadata": {},
   "outputs": [
    {
     "data": {
      "text/plain": [
       "Na2O%         0\n",
       "Ms            0\n",
       "W/B           0\n",
       "SA (m²/kg)    0\n",
       "Kb            0\n",
       "28d           0\n",
       "dtype: int64"
      ]
     },
     "execution_count": 3,
     "metadata": {},
     "output_type": "execute_result"
    }
   ],
   "source": [
    "AlkaliLoadData.isnull().sum()"
   ]
  },
  {
   "cell_type": "code",
   "execution_count": 4,
   "id": "ae7d9bab",
   "metadata": {},
   "outputs": [],
   "source": [
    "X= AlkaliLoadData.drop(columns='28d')\n",
    "Y = AlkaliLoadData['28d']"
   ]
  },
  {
   "cell_type": "code",
   "execution_count": 5,
   "id": "0219e5f1",
   "metadata": {},
   "outputs": [],
   "source": [
    "from sklearn.model_selection import train_test_split\n",
    "X_train, X_test, Y_train, Y_test = train_test_split(X,Y, test_size = 0.2, random_state=0)"
   ]
  },
  {
   "cell_type": "code",
   "execution_count": 6,
   "id": "c3f50078",
   "metadata": {},
   "outputs": [
    {
     "data": {
      "text/html": [
       "<style>#sk-container-id-1 {color: black;}#sk-container-id-1 pre{padding: 0;}#sk-container-id-1 div.sk-toggleable {background-color: white;}#sk-container-id-1 label.sk-toggleable__label {cursor: pointer;display: block;width: 100%;margin-bottom: 0;padding: 0.3em;box-sizing: border-box;text-align: center;}#sk-container-id-1 label.sk-toggleable__label-arrow:before {content: \"▸\";float: left;margin-right: 0.25em;color: #696969;}#sk-container-id-1 label.sk-toggleable__label-arrow:hover:before {color: black;}#sk-container-id-1 div.sk-estimator:hover label.sk-toggleable__label-arrow:before {color: black;}#sk-container-id-1 div.sk-toggleable__content {max-height: 0;max-width: 0;overflow: hidden;text-align: left;background-color: #f0f8ff;}#sk-container-id-1 div.sk-toggleable__content pre {margin: 0.2em;color: black;border-radius: 0.25em;background-color: #f0f8ff;}#sk-container-id-1 input.sk-toggleable__control:checked~div.sk-toggleable__content {max-height: 200px;max-width: 100%;overflow: auto;}#sk-container-id-1 input.sk-toggleable__control:checked~label.sk-toggleable__label-arrow:before {content: \"▾\";}#sk-container-id-1 div.sk-estimator input.sk-toggleable__control:checked~label.sk-toggleable__label {background-color: #d4ebff;}#sk-container-id-1 div.sk-label input.sk-toggleable__control:checked~label.sk-toggleable__label {background-color: #d4ebff;}#sk-container-id-1 input.sk-hidden--visually {border: 0;clip: rect(1px 1px 1px 1px);clip: rect(1px, 1px, 1px, 1px);height: 1px;margin: -1px;overflow: hidden;padding: 0;position: absolute;width: 1px;}#sk-container-id-1 div.sk-estimator {font-family: monospace;background-color: #f0f8ff;border: 1px dotted black;border-radius: 0.25em;box-sizing: border-box;margin-bottom: 0.5em;}#sk-container-id-1 div.sk-estimator:hover {background-color: #d4ebff;}#sk-container-id-1 div.sk-parallel-item::after {content: \"\";width: 100%;border-bottom: 1px solid gray;flex-grow: 1;}#sk-container-id-1 div.sk-label:hover label.sk-toggleable__label {background-color: #d4ebff;}#sk-container-id-1 div.sk-serial::before {content: \"\";position: absolute;border-left: 1px solid gray;box-sizing: border-box;top: 0;bottom: 0;left: 50%;z-index: 0;}#sk-container-id-1 div.sk-serial {display: flex;flex-direction: column;align-items: center;background-color: white;padding-right: 0.2em;padding-left: 0.2em;position: relative;}#sk-container-id-1 div.sk-item {position: relative;z-index: 1;}#sk-container-id-1 div.sk-parallel {display: flex;align-items: stretch;justify-content: center;background-color: white;position: relative;}#sk-container-id-1 div.sk-item::before, #sk-container-id-1 div.sk-parallel-item::before {content: \"\";position: absolute;border-left: 1px solid gray;box-sizing: border-box;top: 0;bottom: 0;left: 50%;z-index: -1;}#sk-container-id-1 div.sk-parallel-item {display: flex;flex-direction: column;z-index: 1;position: relative;background-color: white;}#sk-container-id-1 div.sk-parallel-item:first-child::after {align-self: flex-end;width: 50%;}#sk-container-id-1 div.sk-parallel-item:last-child::after {align-self: flex-start;width: 50%;}#sk-container-id-1 div.sk-parallel-item:only-child::after {width: 0;}#sk-container-id-1 div.sk-dashed-wrapped {border: 1px dashed gray;margin: 0 0.4em 0.5em 0.4em;box-sizing: border-box;padding-bottom: 0.4em;background-color: white;}#sk-container-id-1 div.sk-label label {font-family: monospace;font-weight: bold;display: inline-block;line-height: 1.2em;}#sk-container-id-1 div.sk-label-container {text-align: center;}#sk-container-id-1 div.sk-container {/* jupyter's `normalize.less` sets `[hidden] { display: none; }` but bootstrap.min.css set `[hidden] { display: none !important; }` so we also need the `!important` here to be able to override the default hidden behavior on the sphinx rendered scikit-learn.org. See: https://github.com/scikit-learn/scikit-learn/issues/21755 */display: inline-block !important;position: relative;}#sk-container-id-1 div.sk-text-repr-fallback {display: none;}</style><div id=\"sk-container-id-1\" class=\"sk-top-container\"><div class=\"sk-text-repr-fallback\"><pre>LinearRegression()</pre><b>In a Jupyter environment, please rerun this cell to show the HTML representation or trust the notebook. <br />On GitHub, the HTML representation is unable to render, please try loading this page with nbviewer.org.</b></div><div class=\"sk-container\" hidden><div class=\"sk-item\"><div class=\"sk-estimator sk-toggleable\"><input class=\"sk-toggleable__control sk-hidden--visually\" id=\"sk-estimator-id-1\" type=\"checkbox\" checked><label for=\"sk-estimator-id-1\" class=\"sk-toggleable__label sk-toggleable__label-arrow\">LinearRegression</label><div class=\"sk-toggleable__content\"><pre>LinearRegression()</pre></div></div></div></div></div>"
      ],
      "text/plain": [
       "LinearRegression()"
      ]
     },
     "execution_count": 6,
     "metadata": {},
     "output_type": "execute_result"
    }
   ],
   "source": [
    "from sklearn.linear_model import LinearRegression\n",
    "lr = LinearRegression()\n",
    "lr.fit(X_train, Y_train)"
   ]
  },
  {
   "cell_type": "code",
   "execution_count": 7,
   "id": "c62393b2",
   "metadata": {},
   "outputs": [],
   "source": [
    "Y_pred_test= lr.predict(X_test) "
   ]
  },
  {
   "cell_type": "code",
   "execution_count": 8,
   "id": "2ca7f678",
   "metadata": {},
   "outputs": [
    {
     "name": "stdout",
     "output_type": "stream",
     "text": [
      "mean sq error  615.9659862509789\n"
     ]
    }
   ],
   "source": [
    "from sklearn.metrics import mean_squared_error\n",
    "linear_mse= mean_squared_error(Y_test, Y_pred_test)\n",
    "print('mean sq error ', linear_mse)"
   ]
  },
  {
   "cell_type": "code",
   "execution_count": 9,
   "id": "0519134f",
   "metadata": {},
   "outputs": [
    {
     "name": "stdout",
     "output_type": "stream",
     "text": [
      "mean absolute error is  18.422998762802095\n"
     ]
    }
   ],
   "source": [
    "from sklearn.metrics import mean_absolute_error\n",
    "linear_mae= mean_absolute_error(Y_test, Y_pred_test)\n",
    "print('mean absolute error is ', linear_mae)"
   ]
  },
  {
   "cell_type": "code",
   "execution_count": 10,
   "id": "62d6bd5f",
   "metadata": {},
   "outputs": [
    {
     "data": {
      "text/plain": [
       "0.05043486551714493"
      ]
     },
     "execution_count": 10,
     "metadata": {},
     "output_type": "execute_result"
    }
   ],
   "source": [
    "from sklearn.metrics import r2_score\n",
    "r2_score(Y_test, Y_pred_test)"
   ]
  },
  {
   "cell_type": "code",
   "execution_count": 84,
   "id": "79d62726",
   "metadata": {},
   "outputs": [
    {
     "data": {
      "image/png": "[encoded data removed]",
      "text/plain": [
       "<Figure size 640x480 with 1 Axes>"
      ]
     },
     "metadata": {},
     "output_type": "display_data"
    }
   ],
   "source": [
    "plt.scatter(Y_test, Y_pred_test)\n",
    "plt.xlabel(\"Actual data\")\n",
    "plt.ylabel(\"pred data\")\n",
    "plt.show()-"
   ]
  },
  {
   "cell_type": "markdown",
   "id": "3d9c11a1",
   "metadata": {},
   "source": [
    "# Polynomial Regression"
   ]
  },
  {
   "cell_type": "code",
   "execution_count": 11,
   "id": "c2777ecb",
   "metadata": {},
   "outputs": [],
   "source": [
    "from sklearn.preprocessing import PolynomialFeatures\n",
    "poly = PolynomialFeatures(degree=3, include_bias=True)\n",
    "X_train_poly = poly.fit_transform(X_train)\n",
    "X_test_poly = poly.transform(X_test)"
   ]
  },
  {
   "cell_type": "code",
   "execution_count": 12,
   "id": "e9b11efd",
   "metadata": {},
   "outputs": [],
   "source": [
    "regression = LinearRegression()\n",
    "regression.fit(X_train_poly, Y_train)\n",
    "Y_pred_test_poly= regression.predict(X_test_poly)"
   ]
  },
  {
   "cell_type": "code",
   "execution_count": 13,
   "id": "53635c84",
   "metadata": {},
   "outputs": [
    {
     "name": "stdout",
     "output_type": "stream",
     "text": [
      "mean sq error  469.5332160024067\n"
     ]
    }
   ],
   "source": [
    "poly_mse= mean_squared_error(Y_test, Y_pred_test_poly)\n",
    "print('mean sq error ', poly_mse)"
   ]
  },
  {
   "cell_type": "code",
   "execution_count": 14,
   "id": "0a5fbd83",
   "metadata": {},
   "outputs": [
    {
     "name": "stdout",
     "output_type": "stream",
     "text": [
      "mean absolute error is  14.523179980128285\n"
     ]
    }
   ],
   "source": [
    "poly_mae= mean_absolute_error(Y_test, Y_pred_test_poly)\n",
    "print('mean absolute error is ', poly_mae)"
   ]
  },
  {
   "cell_type": "code",
   "execution_count": 15,
   "id": "8626b225",
   "metadata": {},
   "outputs": [
    {
     "data": {
      "text/plain": [
       "0.2761737151898065"
      ]
     },
     "execution_count": 15,
     "metadata": {},
     "output_type": "execute_result"
    }
   ],
   "source": [
    "r2_score(Y_test, Y_pred_test_poly)"
   ]
  },
  {
   "cell_type": "code",
   "execution_count": 85,
   "id": "16653be1",
   "metadata": {},
   "outputs": [
    {
     "data": {
      "image/png": "[encoded data removed]",
      "text/plain": [
       "<Figure size 640x480 with 1 Axes>"
      ]
     },
     "metadata": {},
     "output_type": "display_data"
    }
   ],
   "source": [
    "plt.scatter(Y_test, Y_pred_test_poly)\n",
    "plt.xlabel(\"Actual data\")\n",
    "plt.ylabel(\"pred data\")\n",
    "plt.show()"
   ]
  },
  {
   "cell_type": "markdown",
   "id": "576e293a",
   "metadata": {},
   "source": [
    "# Neural Network"
   ]
  },
  {
   "cell_type": "code",
   "execution_count": 16,
   "id": "ca71d3f7",
   "metadata": {},
   "outputs": [],
   "source": [
    "from tensorflow.keras import Sequential\n",
    "from keras.layers import Dense\n",
    "from tensorflow.keras.wrappers.scikit_learn import KerasRegressor\n",
    "from sklearn.model_selection import cross_val_score\n",
    "from sklearn.model_selection import KFold\n",
    "from sklearn.pipeline import Pipeline"
   ]
  },
  {
   "cell_type": "code",
   "execution_count": 17,
   "id": "51aef237",
   "metadata": {},
   "outputs": [
    {
     "data": {
      "text/html": [
       "<style>#sk-container-id-2 {color: black;}#sk-container-id-2 pre{padding: 0;}#sk-container-id-2 div.sk-toggleable {background-color: white;}#sk-container-id-2 label.sk-toggleable__label {cursor: pointer;display: block;width: 100%;margin-bottom: 0;padding: 0.3em;box-sizing: border-box;text-align: center;}#sk-container-id-2 label.sk-toggleable__label-arrow:before {content: \"▸\";float: left;margin-right: 0.25em;color: #696969;}#sk-container-id-2 label.sk-toggleable__label-arrow:hover:before {color: black;}#sk-container-id-2 div.sk-estimator:hover label.sk-toggleable__label-arrow:before {color: black;}#sk-container-id-2 div.sk-toggleable__content {max-height: 0;max-width: 0;overflow: hidden;text-align: left;background-color: #f0f8ff;}#sk-container-id-2 div.sk-toggleable__content pre {margin: 0.2em;color: black;border-radius: 0.25em;background-color: #f0f8ff;}#sk-container-id-2 input.sk-toggleable__control:checked~div.sk-toggleable__content {max-height: 200px;max-width: 100%;overflow: auto;}#sk-container-id-2 input.sk-toggleable__control:checked~label.sk-toggleable__label-arrow:before {content: \"▾\";}#sk-container-id-2 div.sk-estimator input.sk-toggleable__control:checked~label.sk-toggleable__label {background-color: #d4ebff;}#sk-container-id-2 div.sk-label input.sk-toggleable__control:checked~label.sk-toggleable__label {background-color: #d4ebff;}#sk-container-id-2 input.sk-hidden--visually {border: 0;clip: rect(1px 1px 1px 1px);clip: rect(1px, 1px, 1px, 1px);height: 1px;margin: -1px;overflow: hidden;padding: 0;position: absolute;width: 1px;}#sk-container-id-2 div.sk-estimator {font-family: monospace;background-color: #f0f8ff;border: 1px dotted black;border-radius: 0.25em;box-sizing: border-box;margin-bottom: 0.5em;}#sk-container-id-2 div.sk-estimator:hover {background-color: #d4ebff;}#sk-container-id-2 div.sk-parallel-item::after {content: \"\";width: 100%;border-bottom: 1px solid gray;flex-grow: 1;}#sk-container-id-2 div.sk-label:hover label.sk-toggleable__label {background-color: #d4ebff;}#sk-container-id-2 div.sk-serial::before {content: \"\";position: absolute;border-left: 1px solid gray;box-sizing: border-box;top: 0;bottom: 0;left: 50%;z-index: 0;}#sk-container-id-2 div.sk-serial {display: flex;flex-direction: column;align-items: center;background-color: white;padding-right: 0.2em;padding-left: 0.2em;position: relative;}#sk-container-id-2 div.sk-item {position: relative;z-index: 1;}#sk-container-id-2 div.sk-parallel {display: flex;align-items: stretch;justify-content: center;background-color: white;position: relative;}#sk-container-id-2 div.sk-item::before, #sk-container-id-2 div.sk-parallel-item::before {content: \"\";position: absolute;border-left: 1px solid gray;box-sizing: border-box;top: 0;bottom: 0;left: 50%;z-index: -1;}#sk-container-id-2 div.sk-parallel-item {display: flex;flex-direction: column;z-index: 1;position: relative;background-color: white;}#sk-container-id-2 div.sk-parallel-item:first-child::after {align-self: flex-end;width: 50%;}#sk-container-id-2 div.sk-parallel-item:last-child::after {align-self: flex-start;width: 50%;}#sk-container-id-2 div.sk-parallel-item:only-child::after {width: 0;}#sk-container-id-2 div.sk-dashed-wrapped {border: 1px dashed gray;margin: 0 0.4em 0.5em 0.4em;box-sizing: border-box;padding-bottom: 0.4em;background-color: white;}#sk-container-id-2 div.sk-label label {font-family: monospace;font-weight: bold;display: inline-block;line-height: 1.2em;}#sk-container-id-2 div.sk-label-container {text-align: center;}#sk-container-id-2 div.sk-container {/* jupyter's `normalize.less` sets `[hidden] { display: none; }` but bootstrap.min.css set `[hidden] { display: none !important; }` so we also need the `!important` here to be able to override the default hidden behavior on the sphinx rendered scikit-learn.org. See: https://github.com/scikit-learn/scikit-learn/issues/21755 */display: inline-block !important;position: relative;}#sk-container-id-2 div.sk-text-repr-fallback {display: none;}</style><div id=\"sk-container-id-2\" class=\"sk-top-container\"><div class=\"sk-text-repr-fallback\"><pre>StandardScaler()</pre><b>In a Jupyter environment, please rerun this cell to show the HTML representation or trust the notebook. <br />On GitHub, the HTML representation is unable to render, please try loading this page with nbviewer.org.</b></div><div class=\"sk-container\" hidden><div class=\"sk-item\"><div class=\"sk-estimator sk-toggleable\"><input class=\"sk-toggleable__control sk-hidden--visually\" id=\"sk-estimator-id-2\" type=\"checkbox\" checked><label for=\"sk-estimator-id-2\" class=\"sk-toggleable__label sk-toggleable__label-arrow\">StandardScaler</label><div class=\"sk-toggleable__content\"><pre>StandardScaler()</pre></div></div></div></div></div>"
      ],
      "text/plain": [
       "StandardScaler()"
      ]
     },
     "execution_count": 17,
     "metadata": {},
     "output_type": "execute_result"
    }
   ],
   "source": [
    "from sklearn.preprocessing import StandardScaler\n",
    "scaler= StandardScaler()\n",
    "scaler.fit(X_train)"
   ]
  },
  {
   "cell_type": "code",
   "execution_count": 18,
   "id": "769816dc",
   "metadata": {},
   "outputs": [],
   "source": [
    "X_train_scaled= scaler.transform(X_train)\n",
    "X_test_scaled= scaler.transform(X_test)"
   ]
  },
  {
   "cell_type": "code",
   "execution_count": 20,
   "id": "1f5036ee",
   "metadata": {},
   "outputs": [],
   "source": [
    "model = Sequential()\n",
    "from tensorflow.keras.initializers import glorot_normal\n",
    "from tensorflow.keras.regularizers import l1, l2\n",
    "from tensorflow.keras.layers import BatchNormalization\n",
    "model.add(Dense(5, activation = 'selu'))\n",
    "model.add(BatchNormalization())\n",
    "model.add(Dense(128, activation = 'selu',kernel_initializer=glorot_normal()))\n",
    "\n",
    "model.add(Dense(64, activation = 'selu',kernel_initializer=glorot_normal()))\n",
    "\n",
    "model.add(Dense(32, activation = 'selu',kernel_initializer=glorot_normal()))\n",
    "\n",
    "model.add(Dense(16, activation = 'selu',kernel_initializer=glorot_normal()))\n",
    "\n",
    "model.add(Dense(8, activation = 'selu',kernel_initializer=glorot_normal()))\n",
    "\n",
    "model.add(Dense(4, activation = 'selu',kernel_initializer=glorot_normal()))\n",
    "\n",
    "model.add(Dense(2, activation = 'selu',kernel_initializer=glorot_normal()))\n",
    "\n",
    "model.add(Dense(1, activation = 'selu',kernel_initializer=glorot_normal()))"
   ]
  },
  {
   "cell_type": "code",
   "execution_count": 21,
   "id": "9325fac5",
   "metadata": {},
   "outputs": [],
   "source": [
    "model.compile(loss='mean_squared_error', optimizer='adam', metrics=['mae'])"
   ]
  },
  {
   "cell_type": "code",
   "execution_count": 34,
   "id": "3d7c9e22",
   "metadata": {},
   "outputs": [
    {
     "name": "stdout",
     "output_type": "stream",
     "text": [
      "Epoch 1/100\n",
      "7/7 [==============================] - 0s 17ms/step - loss: 125.5264 - mae: 6.7576 - val_loss: 428.6248 - val_mae: 14.8982\n",
      "Epoch 2/100\n",
      "7/7 [==============================] - 0s 9ms/step - loss: 58.3031 - mae: 5.0207 - val_loss: 421.6309 - val_mae: 14.5471\n",
      "Epoch 3/100\n",
      "7/7 [==============================] - 0s 8ms/step - loss: 75.1762 - mae: 5.3720 - val_loss: 420.0681 - val_mae: 14.5812\n",
      "Epoch 4/100\n",
      "7/7 [==============================] - 0s 8ms/step - loss: 80.0898 - mae: 5.5827 - val_loss: 427.8539 - val_mae: 14.6784\n",
      "Epoch 5/100\n",
      "7/7 [==============================] - 0s 8ms/step - loss: 48.5773 - mae: 4.9484 - val_loss: 426.8102 - val_mae: 14.6387\n",
      "Epoch 6/100\n",
      "7/7 [==============================] - 0s 7ms/step - loss: 69.6856 - mae: 5.2052 - val_loss: 413.8570 - val_mae: 14.3449\n",
      "Epoch 7/100\n",
      "7/7 [==============================] - 0s 8ms/step - loss: 69.7628 - mae: 5.9200 - val_loss: 411.0337 - val_mae: 14.3200\n",
      "Epoch 8/100\n",
      "7/7 [==============================] - 0s 8ms/step - loss: 35.9787 - mae: 4.4002 - val_loss: 404.7232 - val_mae: 14.1845\n",
      "Epoch 9/100\n",
      "7/7 [==============================] - 0s 8ms/step - loss: 77.0161 - mae: 5.3729 - val_loss: 396.9442 - val_mae: 14.0766\n",
      "Epoch 10/100\n",
      "7/7 [==============================] - 0s 8ms/step - loss: 77.8952 - mae: 5.6388 - val_loss: 401.7180 - val_mae: 14.0841\n",
      "Epoch 11/100\n",
      "7/7 [==============================] - 0s 8ms/step - loss: 64.6033 - mae: 5.2122 - val_loss: 403.4025 - val_mae: 14.0361\n",
      "Epoch 12/100\n",
      "7/7 [==============================] - 0s 11ms/step - loss: 52.1353 - mae: 5.2108 - val_loss: 409.4901 - val_mae: 14.1127\n",
      "Epoch 13/100\n",
      "7/7 [==============================] - 0s 8ms/step - loss: 70.0379 - mae: 5.3532 - val_loss: 408.3634 - val_mae: 14.1707\n",
      "Epoch 14/100\n",
      "7/7 [==============================] - 0s 7ms/step - loss: 47.8085 - mae: 4.7689 - val_loss: 405.2498 - val_mae: 14.5943\n",
      "Epoch 15/100\n",
      "7/7 [==============================] - 0s 8ms/step - loss: 102.5727 - mae: 5.6327 - val_loss: 395.4594 - val_mae: 14.5029\n",
      "Epoch 16/100\n",
      "7/7 [==============================] - 0s 8ms/step - loss: 73.0306 - mae: 5.6598 - val_loss: 392.8288 - val_mae: 14.3781\n",
      "Epoch 17/100\n",
      "7/7 [==============================] - 0s 8ms/step - loss: 68.0896 - mae: 5.3834 - val_loss: 388.9413 - val_mae: 14.2844\n",
      "Epoch 18/100\n",
      "7/7 [==============================] - 0s 8ms/step - loss: 78.7459 - mae: 5.8462 - val_loss: 390.3314 - val_mae: 14.2867\n",
      "Epoch 19/100\n",
      "7/7 [==============================] - 0s 8ms/step - loss: 95.6297 - mae: 6.9199 - val_loss: 400.6518 - val_mae: 14.4711\n",
      "Epoch 20/100\n",
      "7/7 [==============================] - 0s 8ms/step - loss: 58.7115 - mae: 5.2266 - val_loss: 408.3258 - val_mae: 14.5303\n",
      "Epoch 21/100\n",
      "7/7 [==============================] - 0s 8ms/step - loss: 84.5482 - mae: 5.8052 - val_loss: 421.5657 - val_mae: 14.6024\n",
      "Epoch 22/100\n",
      "7/7 [==============================] - 0s 8ms/step - loss: 82.6806 - mae: 6.0076 - val_loss: 430.6357 - val_mae: 14.5508\n",
      "Epoch 23/100\n",
      "7/7 [==============================] - 0s 8ms/step - loss: 39.8954 - mae: 4.3117 - val_loss: 424.5620 - val_mae: 14.5035\n",
      "Epoch 24/100\n",
      "7/7 [==============================] - 0s 8ms/step - loss: 50.6755 - mae: 5.3299 - val_loss: 423.2686 - val_mae: 14.6035\n",
      "Epoch 25/100\n",
      "7/7 [==============================] - 0s 8ms/step - loss: 67.8581 - mae: 5.4587 - val_loss: 422.8850 - val_mae: 14.5948\n",
      "Epoch 26/100\n",
      "7/7 [==============================] - 0s 8ms/step - loss: 55.6793 - mae: 5.4343 - val_loss: 422.1738 - val_mae: 14.6002\n",
      "Epoch 27/100\n",
      "7/7 [==============================] - 0s 8ms/step - loss: 74.9637 - mae: 5.6245 - val_loss: 426.0895 - val_mae: 14.6586\n",
      "Epoch 28/100\n",
      "7/7 [==============================] - 0s 8ms/step - loss: 42.5758 - mae: 4.3339 - val_loss: 433.4177 - val_mae: 14.7750\n",
      "Epoch 29/100\n",
      "7/7 [==============================] - 0s 9ms/step - loss: 44.2253 - mae: 4.8549 - val_loss: 433.4130 - val_mae: 14.9355\n",
      "Epoch 30/100\n",
      "7/7 [==============================] - 0s 8ms/step - loss: 78.6199 - mae: 5.6902 - val_loss: 433.6984 - val_mae: 15.2083\n",
      "Epoch 31/100\n",
      "7/7 [==============================] - 0s 8ms/step - loss: 51.2968 - mae: 4.7826 - val_loss: 437.9062 - val_mae: 15.3337\n",
      "Epoch 32/100\n",
      "7/7 [==============================] - 0s 8ms/step - loss: 35.8899 - mae: 4.2166 - val_loss: 438.8665 - val_mae: 15.2364\n",
      "Epoch 33/100\n",
      "7/7 [==============================] - 0s 8ms/step - loss: 31.0800 - mae: 4.0912 - val_loss: 426.0293 - val_mae: 14.9553\n",
      "Epoch 34/100\n",
      "7/7 [==============================] - 0s 8ms/step - loss: 55.4600 - mae: 5.2656 - val_loss: 420.6278 - val_mae: 14.8656\n",
      "Epoch 35/100\n",
      "7/7 [==============================] - 0s 8ms/step - loss: 47.8302 - mae: 4.7497 - val_loss: 419.3180 - val_mae: 14.8562\n",
      "Epoch 36/100\n",
      "7/7 [==============================] - 0s 8ms/step - loss: 72.5584 - mae: 5.0523 - val_loss: 418.6783 - val_mae: 14.8516\n",
      "Epoch 37/100\n",
      "7/7 [==============================] - 0s 8ms/step - loss: 148.9758 - mae: 6.5613 - val_loss: 432.6658 - val_mae: 14.9656\n",
      "Epoch 38/100\n",
      "7/7 [==============================] - 0s 8ms/step - loss: 56.3264 - mae: 4.6203 - val_loss: 438.9301 - val_mae: 15.0081\n",
      "Epoch 39/100\n",
      "7/7 [==============================] - 0s 8ms/step - loss: 61.1257 - mae: 5.0865 - val_loss: 438.0633 - val_mae: 14.9340\n",
      "Epoch 40/100\n",
      "7/7 [==============================] - 0s 8ms/step - loss: 70.2877 - mae: 5.3221 - val_loss: 433.3925 - val_mae: 14.7930\n",
      "Epoch 41/100\n",
      "7/7 [==============================] - 0s 9ms/step - loss: 106.8717 - mae: 6.7516 - val_loss: 428.5347 - val_mae: 14.7048\n",
      "Epoch 42/100\n",
      "7/7 [==============================] - 0s 8ms/step - loss: 82.2655 - mae: 5.7237 - val_loss: 426.4156 - val_mae: 14.6864\n",
      "Epoch 43/100\n",
      "7/7 [==============================] - 0s 8ms/step - loss: 51.4338 - mae: 4.9499 - val_loss: 424.2742 - val_mae: 14.5486\n",
      "Epoch 44/100\n",
      "7/7 [==============================] - 0s 9ms/step - loss: 56.6246 - mae: 5.2309 - val_loss: 426.4072 - val_mae: 14.5449\n",
      "Epoch 45/100\n",
      "7/7 [==============================] - 0s 8ms/step - loss: 117.7727 - mae: 7.0137 - val_loss: 419.6501 - val_mae: 14.4222\n",
      "Epoch 46/100\n",
      "7/7 [==============================] - 0s 8ms/step - loss: 61.5234 - mae: 5.0112 - val_loss: 407.5369 - val_mae: 14.2999\n",
      "Epoch 47/100\n",
      "7/7 [==============================] - 0s 8ms/step - loss: 88.6041 - mae: 6.2904 - val_loss: 405.4789 - val_mae: 14.3831\n",
      "Epoch 48/100\n",
      "7/7 [==============================] - 0s 8ms/step - loss: 61.4803 - mae: 5.5320 - val_loss: 407.0035 - val_mae: 14.3114\n",
      "Epoch 49/100\n",
      "7/7 [==============================] - 0s 8ms/step - loss: 69.4869 - mae: 5.1895 - val_loss: 411.1451 - val_mae: 14.3887\n",
      "Epoch 50/100\n",
      "7/7 [==============================] - 0s 9ms/step - loss: 79.5153 - mae: 5.7301 - val_loss: 412.1155 - val_mae: 14.4036\n",
      "Epoch 51/100\n",
      "7/7 [==============================] - 0s 8ms/step - loss: 63.6691 - mae: 5.4289 - val_loss: 415.3088 - val_mae: 14.5332\n",
      "Epoch 52/100\n",
      "7/7 [==============================] - 0s 7ms/step - loss: 61.3143 - mae: 5.1015 - val_loss: 413.8368 - val_mae: 14.5787\n",
      "Epoch 53/100\n",
      "7/7 [==============================] - 0s 8ms/step - loss: 76.4462 - mae: 5.5165 - val_loss: 412.9099 - val_mae: 14.6247\n",
      "Epoch 54/100\n",
      "7/7 [==============================] - 0s 8ms/step - loss: 81.5157 - mae: 5.1747 - val_loss: 410.5008 - val_mae: 14.4794\n",
      "Epoch 55/100\n",
      "7/7 [==============================] - 0s 8ms/step - loss: 50.1685 - mae: 4.7320 - val_loss: 418.6512 - val_mae: 14.6650\n",
      "Epoch 56/100\n",
      "7/7 [==============================] - 0s 8ms/step - loss: 58.0591 - mae: 5.1000 - val_loss: 413.6144 - val_mae: 14.6688\n",
      "Epoch 57/100\n",
      "7/7 [==============================] - 0s 8ms/step - loss: 45.7746 - mae: 4.7880 - val_loss: 404.1026 - val_mae: 14.6512\n",
      "Epoch 58/100\n",
      "7/7 [==============================] - 0s 8ms/step - loss: 71.3718 - mae: 5.6497 - val_loss: 399.3096 - val_mae: 14.7324\n",
      "Epoch 59/100\n",
      "7/7 [==============================] - 0s 8ms/step - loss: 120.0385 - mae: 6.8190 - val_loss: 401.0864 - val_mae: 14.7394\n",
      "Epoch 60/100\n",
      "7/7 [==============================] - 0s 8ms/step - loss: 63.2786 - mae: 5.1786 - val_loss: 408.3711 - val_mae: 14.7858\n",
      "Epoch 61/100\n",
      "7/7 [==============================] - 0s 8ms/step - loss: 82.6282 - mae: 6.1659 - val_loss: 415.9949 - val_mae: 14.8595\n",
      "Epoch 62/100\n"
     ]
    },
    {
     "name": "stdout",
     "output_type": "stream",
     "text": [
      "7/7 [==============================] - 0s 8ms/step - loss: 44.4589 - mae: 4.4012 - val_loss: 421.4271 - val_mae: 14.9095\n",
      "Epoch 63/100\n",
      "7/7 [==============================] - 0s 8ms/step - loss: 49.5421 - mae: 4.8953 - val_loss: 426.3220 - val_mae: 14.8899\n",
      "Epoch 64/100\n",
      "7/7 [==============================] - 0s 8ms/step - loss: 48.8167 - mae: 4.7979 - val_loss: 422.5982 - val_mae: 14.8305\n",
      "Epoch 65/100\n",
      "7/7 [==============================] - 0s 8ms/step - loss: 133.5236 - mae: 6.0489 - val_loss: 421.4093 - val_mae: 14.7777\n",
      "Epoch 66/100\n",
      "7/7 [==============================] - 0s 8ms/step - loss: 66.8159 - mae: 5.4812 - val_loss: 437.4384 - val_mae: 15.0784\n",
      "Epoch 67/100\n",
      "7/7 [==============================] - 0s 10ms/step - loss: 78.0492 - mae: 5.7756 - val_loss: 439.1093 - val_mae: 15.1641\n",
      "Epoch 68/100\n",
      "7/7 [==============================] - 0s 8ms/step - loss: 94.8695 - mae: 5.8657 - val_loss: 417.0322 - val_mae: 14.9350\n",
      "Epoch 69/100\n",
      "7/7 [==============================] - 0s 8ms/step - loss: 44.8597 - mae: 4.7785 - val_loss: 407.0039 - val_mae: 14.7973\n",
      "Epoch 70/100\n",
      "7/7 [==============================] - 0s 8ms/step - loss: 49.3592 - mae: 5.1323 - val_loss: 404.7914 - val_mae: 14.7471\n",
      "Epoch 71/100\n",
      "7/7 [==============================] - 0s 8ms/step - loss: 71.4240 - mae: 5.5361 - val_loss: 407.5836 - val_mae: 14.7611\n",
      "Epoch 72/100\n",
      "7/7 [==============================] - 0s 9ms/step - loss: 46.7603 - mae: 4.6257 - val_loss: 414.7123 - val_mae: 14.8501\n",
      "Epoch 73/100\n",
      "7/7 [==============================] - 0s 8ms/step - loss: 101.2521 - mae: 6.4621 - val_loss: 422.2850 - val_mae: 15.0424\n",
      "Epoch 74/100\n",
      "7/7 [==============================] - 0s 8ms/step - loss: 92.6619 - mae: 6.2223 - val_loss: 427.9908 - val_mae: 15.1526\n",
      "Epoch 75/100\n",
      "7/7 [==============================] - 0s 9ms/step - loss: 56.0359 - mae: 5.3254 - val_loss: 426.6825 - val_mae: 15.1141\n",
      "Epoch 76/100\n",
      "7/7 [==============================] - 0s 8ms/step - loss: 48.3035 - mae: 4.6681 - val_loss: 426.4935 - val_mae: 15.1585\n",
      "Epoch 77/100\n",
      "7/7 [==============================] - 0s 8ms/step - loss: 55.1511 - mae: 5.1681 - val_loss: 438.3168 - val_mae: 15.3048\n",
      "Epoch 78/100\n",
      "7/7 [==============================] - 0s 8ms/step - loss: 49.6967 - mae: 4.8217 - val_loss: 432.1360 - val_mae: 15.2544\n",
      "Epoch 79/100\n",
      "7/7 [==============================] - 0s 8ms/step - loss: 66.2697 - mae: 5.4942 - val_loss: 436.0452 - val_mae: 15.5760\n",
      "Epoch 80/100\n",
      "7/7 [==============================] - 0s 9ms/step - loss: 40.5684 - mae: 4.8110 - val_loss: 439.1451 - val_mae: 15.6865\n",
      "Epoch 81/100\n",
      "7/7 [==============================] - 0s 8ms/step - loss: 52.5149 - mae: 4.7384 - val_loss: 446.8334 - val_mae: 15.8151\n",
      "Epoch 82/100\n",
      "7/7 [==============================] - 0s 8ms/step - loss: 41.4688 - mae: 4.4495 - val_loss: 446.9819 - val_mae: 15.8027\n",
      "Epoch 83/100\n",
      "7/7 [==============================] - 0s 8ms/step - loss: 41.2826 - mae: 4.2172 - val_loss: 452.7163 - val_mae: 15.6654\n",
      "Epoch 84/100\n",
      "7/7 [==============================] - 0s 7ms/step - loss: 81.7408 - mae: 5.8111 - val_loss: 449.5150 - val_mae: 15.5695\n",
      "Epoch 85/100\n",
      "7/7 [==============================] - 0s 8ms/step - loss: 43.1303 - mae: 4.5048 - val_loss: 448.8559 - val_mae: 15.6436\n",
      "Epoch 86/100\n",
      "7/7 [==============================] - 0s 8ms/step - loss: 55.7213 - mae: 4.8222 - val_loss: 451.5042 - val_mae: 15.6168\n",
      "Epoch 87/100\n",
      "7/7 [==============================] - 0s 8ms/step - loss: 37.0563 - mae: 4.3729 - val_loss: 452.2678 - val_mae: 15.5494\n",
      "Epoch 88/100\n",
      "7/7 [==============================] - 0s 9ms/step - loss: 95.7028 - mae: 6.4144 - val_loss: 449.5226 - val_mae: 15.5020\n",
      "Epoch 89/100\n",
      "7/7 [==============================] - 0s 8ms/step - loss: 77.1166 - mae: 5.7090 - val_loss: 457.3883 - val_mae: 15.6058\n",
      "Epoch 90/100\n",
      "7/7 [==============================] - 0s 8ms/step - loss: 84.7416 - mae: 5.3036 - val_loss: 470.2688 - val_mae: 15.7442\n",
      "Epoch 91/100\n",
      "7/7 [==============================] - 0s 8ms/step - loss: 73.5833 - mae: 5.7609 - val_loss: 466.2783 - val_mae: 15.7436\n",
      "Epoch 92/100\n",
      "7/7 [==============================] - 0s 9ms/step - loss: 57.2370 - mae: 5.2569 - val_loss: 470.1109 - val_mae: 15.9728\n",
      "Epoch 93/100\n",
      "7/7 [==============================] - 0s 8ms/step - loss: 65.2579 - mae: 5.3360 - val_loss: 468.0609 - val_mae: 16.0378\n",
      "Epoch 94/100\n",
      "7/7 [==============================] - 0s 8ms/step - loss: 99.9416 - mae: 6.7008 - val_loss: 467.8005 - val_mae: 15.9544\n",
      "Epoch 95/100\n",
      "7/7 [==============================] - 0s 8ms/step - loss: 50.9133 - mae: 4.7007 - val_loss: 462.9789 - val_mae: 15.7809\n",
      "Epoch 96/100\n",
      "7/7 [==============================] - 0s 9ms/step - loss: 60.3800 - mae: 5.0922 - val_loss: 463.6730 - val_mae: 15.8525\n",
      "Epoch 97/100\n",
      "7/7 [==============================] - 0s 8ms/step - loss: 49.7782 - mae: 4.7863 - val_loss: 458.2565 - val_mae: 15.7595\n",
      "Epoch 98/100\n",
      "7/7 [==============================] - 0s 8ms/step - loss: 67.5677 - mae: 5.7252 - val_loss: 446.1441 - val_mae: 15.5935\n",
      "Epoch 99/100\n",
      "7/7 [==============================] - 0s 8ms/step - loss: 70.7387 - mae: 5.2698 - val_loss: 437.8431 - val_mae: 15.4373\n",
      "Epoch 100/100\n",
      "7/7 [==============================] - 0s 8ms/step - loss: 44.2256 - mae: 4.6090 - val_loss: 434.5971 - val_mae: 15.3442\n"
     ]
    }
   ],
   "source": [
    "history = model.fit(X_train_scaled, Y_train, validation_split=0.2, epochs=100)"
   ]
  },
  {
   "cell_type": "code",
   "execution_count": 35,
   "id": "78c50bdf",
   "metadata": {},
   "outputs": [
    {
     "name": "stdout",
     "output_type": "stream",
     "text": [
      "2/2 [==============================] - 0s 3ms/step\n"
     ]
    }
   ],
   "source": [
    "y_pred_neural = model.predict(X_test_scaled)"
   ]
  },
  {
   "cell_type": "code",
   "execution_count": 36,
   "id": "e83d38ce",
   "metadata": {},
   "outputs": [
    {
     "name": "stdout",
     "output_type": "stream",
     "text": [
      "mean sq error  206.2505571478551\n"
     ]
    }
   ],
   "source": [
    "mse_neural= mean_squared_error(Y_test, y_pred_neural)\n",
    "print('mean sq error ', mse_neural)"
   ]
  },
  {
   "cell_type": "code",
   "execution_count": 37,
   "id": "e059880f",
   "metadata": {},
   "outputs": [
    {
     "name": "stdout",
     "output_type": "stream",
     "text": [
      "mean absolute error is  10.102706313594695\n"
     ]
    }
   ],
   "source": [
    "neural_mae= mean_absolute_error(Y_test, y_pred_neural)\n",
    "print('mean absolute error is ', neural_mae)"
   ]
  },
  {
   "cell_type": "code",
   "execution_count": 38,
   "id": "52172626",
   "metadata": {},
   "outputs": [
    {
     "data": {
      "text/plain": [
       "0.6820468298464336"
      ]
     },
     "execution_count": 38,
     "metadata": {},
     "output_type": "execute_result"
    }
   ],
   "source": [
    "r2_score(Y_test, y_pred_neural)"
   ]
  },
  {
   "cell_type": "code",
   "execution_count": 86,
   "id": "14d4b410",
   "metadata": {},
   "outputs": [
    {
     "data": {
      "image/png": "[encoded data removed]",
      "text/plain": [
       "<Figure size 640x480 with 1 Axes>"
      ]
     },
     "metadata": {},
     "output_type": "display_data"
    }
   ],
   "source": [
    "plt.scatter(Y_test, y_pred_neural)\n",
    "plt.xlabel(\"Actual data\")\n",
    "plt.ylabel(\"pred data\")\n",
    "plt.show()"
   ]
  },
  {
   "cell_type": "markdown",
   "id": "0f8e854d",
   "metadata": {},
   "source": [
    "# XGBoost"
   ]
  },
  {
   "cell_type": "code",
   "execution_count": 39,
   "id": "13a56c9c",
   "metadata": {},
   "outputs": [],
   "source": [
    "from  xgboost import XGBRegressor"
   ]
  },
  {
   "cell_type": "code",
   "execution_count": 79,
   "id": "3f826c30",
   "metadata": {},
   "outputs": [],
   "source": [
    "xgbr = XGBRegressor(verbosity=0,learning_rate=0.5,n_estimators=50,max_depth=6,min_child_weight=4)"
   ]
  },
  {
   "cell_type": "code",
   "execution_count": 80,
   "id": "49a3efbe",
   "metadata": {},
   "outputs": [
    {
     "data": {
      "text/html": [
       "<style>#sk-container-id-12 {color: black;}#sk-container-id-12 pre{padding: 0;}#sk-container-id-12 div.sk-toggleable {background-color: white;}#sk-container-id-12 label.sk-toggleable__label {cursor: pointer;display: block;width: 100%;margin-bottom: 0;padding: 0.3em;box-sizing: border-box;text-align: center;}#sk-container-id-12 label.sk-toggleable__label-arrow:before {content: \"▸\";float: left;margin-right: 0.25em;color: #696969;}#sk-container-id-12 label.sk-toggleable__label-arrow:hover:before {color: black;}#sk-container-id-12 div.sk-estimator:hover label.sk-toggleable__label-arrow:before {color: black;}#sk-container-id-12 div.sk-toggleable__content {max-height: 0;max-width: 0;overflow: hidden;text-align: left;background-color: #f0f8ff;}#sk-container-id-12 div.sk-toggleable__content pre {margin: 0.2em;color: black;border-radius: 0.25em;background-color: #f0f8ff;}#sk-container-id-12 input.sk-toggleable__control:checked~div.sk-toggleable__content {max-height: 200px;max-width: 100%;overflow: auto;}#sk-container-id-12 input.sk-toggleable__control:checked~label.sk-toggleable__label-arrow:before {content: \"▾\";}#sk-container-id-12 div.sk-estimator input.sk-toggleable__control:checked~label.sk-toggleable__label {background-color: #d4ebff;}#sk-container-id-12 div.sk-label input.sk-toggleable__control:checked~label.sk-toggleable__label {background-color: #d4ebff;}#sk-container-id-12 input.sk-hidden--visually {border: 0;clip: rect(1px 1px 1px 1px);clip: rect(1px, 1px, 1px, 1px);height: 1px;margin: -1px;overflow: hidden;padding: 0;position: absolute;width: 1px;}#sk-container-id-12 div.sk-estimator {font-family: monospace;background-color: #f0f8ff;border: 1px dotted black;border-radius: 0.25em;box-sizing: border-box;margin-bottom: 0.5em;}#sk-container-id-12 div.sk-estimator:hover {background-color: #d4ebff;}#sk-container-id-12 div.sk-parallel-item::after {content: \"\";width: 100%;border-bottom: 1px solid gray;flex-grow: 1;}#sk-container-id-12 div.sk-label:hover label.sk-toggleable__label {background-color: #d4ebff;}#sk-container-id-12 div.sk-serial::before {content: \"\";position: absolute;border-left: 1px solid gray;box-sizing: border-box;top: 0;bottom: 0;left: 50%;z-index: 0;}#sk-container-id-12 div.sk-serial {display: flex;flex-direction: column;align-items: center;background-color: white;padding-right: 0.2em;padding-left: 0.2em;position: relative;}#sk-container-id-12 div.sk-item {position: relative;z-index: 1;}#sk-container-id-12 div.sk-parallel {display: flex;align-items: stretch;justify-content: center;background-color: white;position: relative;}#sk-container-id-12 div.sk-item::before, #sk-container-id-12 div.sk-parallel-item::before {content: \"\";position: absolute;border-left: 1px solid gray;box-sizing: border-box;top: 0;bottom: 0;left: 50%;z-index: -1;}#sk-container-id-12 div.sk-parallel-item {display: flex;flex-direction: column;z-index: 1;position: relative;background-color: white;}#sk-container-id-12 div.sk-parallel-item:first-child::after {align-self: flex-end;width: 50%;}#sk-container-id-12 div.sk-parallel-item:last-child::after {align-self: flex-start;width: 50%;}#sk-container-id-12 div.sk-parallel-item:only-child::after {width: 0;}#sk-container-id-12 div.sk-dashed-wrapped {border: 1px dashed gray;margin: 0 0.4em 0.5em 0.4em;box-sizing: border-box;padding-bottom: 0.4em;background-color: white;}#sk-container-id-12 div.sk-label label {font-family: monospace;font-weight: bold;display: inline-block;line-height: 1.2em;}#sk-container-id-12 div.sk-label-container {text-align: center;}#sk-container-id-12 div.sk-container {/* jupyter's `normalize.less` sets `[hidden] { display: none; }` but bootstrap.min.css set `[hidden] { display: none !important; }` so we also need the `!important` here to be able to override the default hidden behavior on the sphinx rendered scikit-learn.org. See: https://github.com/scikit-learn/scikit-learn/issues/21755 */display: inline-block !important;position: relative;}#sk-container-id-12 div.sk-text-repr-fallback {display: none;}</style><div id=\"sk-container-id-12\" class=\"sk-top-container\"><div class=\"sk-text-repr-fallback\"><pre>XGBRegressor(base_score=None, booster=None, callbacks=None,\n",
       "             colsample_bylevel=None, colsample_bynode=None,\n",
       "             colsample_bytree=None, device=None, early_stopping_rounds=None,\n",
       "             enable_categorical=False, eval_metric=None, feature_types=None,\n",
       "             gamma=None, grow_policy=None, importance_type=None,\n",
       "             interaction_constraints=None, learning_rate=0.5, max_bin=None,\n",
       "             max_cat_threshold=None, max_cat_to_onehot=None,\n",
       "             max_delta_step=None, max_depth=6, max_leaves=None,\n",
       "             min_child_weight=4, missing=nan, monotone_constraints=None,\n",
       "             multi_strategy=None, n_estimators=50, n_jobs=1,\n",
       "             num_parallel_tree=None, random_state=None, ...)</pre><b>In a Jupyter environment, please rerun this cell to show the HTML representation or trust the notebook. <br />On GitHub, the HTML representation is unable to render, please try loading this page with nbviewer.org.</b></div><div class=\"sk-container\" hidden><div class=\"sk-item\"><div class=\"sk-estimator sk-toggleable\"><input class=\"sk-toggleable__control sk-hidden--visually\" id=\"sk-estimator-id-12\" type=\"checkbox\" checked><label for=\"sk-estimator-id-12\" class=\"sk-toggleable__label sk-toggleable__label-arrow\">XGBRegressor</label><div class=\"sk-toggleable__content\"><pre>XGBRegressor(base_score=None, booster=None, callbacks=None,\n",
       "             colsample_bylevel=None, colsample_bynode=None,\n",
       "             colsample_bytree=None, device=None, early_stopping_rounds=None,\n",
       "             enable_categorical=False, eval_metric=None, feature_types=None,\n",
       "             gamma=None, grow_policy=None, importance_type=None,\n",
       "             interaction_constraints=None, learning_rate=0.5, max_bin=None,\n",
       "             max_cat_threshold=None, max_cat_to_onehot=None,\n",
       "             max_delta_step=None, max_depth=6, max_leaves=None,\n",
       "             min_child_weight=4, missing=nan, monotone_constraints=None,\n",
       "             multi_strategy=None, n_estimators=50, n_jobs=1,\n",
       "             num_parallel_tree=None, random_state=None, ...)</pre></div></div></div></div></div>"
      ],
      "text/plain": [
       "XGBRegressor(base_score=None, booster=None, callbacks=None,\n",
       "             colsample_bylevel=None, colsample_bynode=None,\n",
       "             colsample_bytree=None, device=None, early_stopping_rounds=None,\n",
       "             enable_categorical=False, eval_metric=None, feature_types=None,\n",
       "             gamma=None, grow_policy=None, importance_type=None,\n",
       "             interaction_constraints=None, learning_rate=0.5, max_bin=None,\n",
       "             max_cat_threshold=None, max_cat_to_onehot=None,\n",
       "             max_delta_step=None, max_depth=6, max_leaves=None,\n",
       "             min_child_weight=4, missing=nan, monotone_constraints=None,\n",
       "             multi_strategy=None, n_estimators=50, n_jobs=1,\n",
       "             num_parallel_tree=None, random_state=None, ...)"
      ]
     },
     "execution_count": 80,
     "metadata": {},
     "output_type": "execute_result"
    }
   ],
   "source": [
    "xgbr.fit(X_train, Y_train)"
   ]
  },
  {
   "cell_type": "code",
   "execution_count": 81,
   "id": "59fdba2e",
   "metadata": {},
   "outputs": [
    {
     "name": "stdout",
     "output_type": "stream",
     "text": [
      "mean sq error  115.92043421164789\n"
     ]
    }
   ],
   "source": [
    "Yp=xgbr.predict(X_test)\n",
    "mse_xgboost= mean_squared_error(Y_test, Yp)\n",
    "print('mean sq error ', mse_xgboost)"
   ]
  },
  {
   "cell_type": "code",
   "execution_count": 82,
   "id": "9303a183",
   "metadata": {},
   "outputs": [
    {
     "name": "stdout",
     "output_type": "stream",
     "text": [
      "mean absolute error is  7.322312737126504\n"
     ]
    }
   ],
   "source": [
    "xgboost_mae= mean_absolute_error(Y_test, Yp)\n",
    "print('mean absolute error is ', xgboost_mae)"
   ]
  },
  {
   "cell_type": "code",
   "execution_count": 44,
   "id": "eb4d6447",
   "metadata": {},
   "outputs": [
    {
     "data": {
      "text/plain": [
       "0.8212985697936832"
      ]
     },
     "execution_count": 44,
     "metadata": {},
     "output_type": "execute_result"
    }
   ],
   "source": [
    "r2_score(Y_test, Yp)"
   ]
  },
  {
   "cell_type": "code",
   "execution_count": 87,
   "id": "de254671",
   "metadata": {},
   "outputs": [
    {
     "data": {
      "image/png": "[encoded data removed]",
      "text/plain": [
       "<Figure size 640x480 with 1 Axes>"
      ]
     },
     "metadata": {},
     "output_type": "display_data"
    }
   ],
   "source": [
    "plt.scatter(Y_test, Yp)\n",
    "plt.xlabel(\"Actual data\")\n",
    "plt.ylabel(\"pred data\")\n",
    "plt.show()"
   ]
  },
  {
   "cell_type": "code",
   "execution_count": null,
   "id": "22c29ed4",
   "metadata": {},
   "outputs": [],
   "source": []
  }
 ],
 "metadata": {
  "kernelspec": {
   "display_name": "Python 3 (ipykernel)",
   "language": "python",
   "name": "python3"
  },
  "language_info": {
   "codemirror_mode": {
    "name": "ipython",
    "version": 3
   },
   "file_extension": ".py",
   "mimetype": "text/x-python",
   "name": "python",
   "nbconvert_exporter": "python",
   "pygments_lexer": "ipython3",
   "version": "3.11.5"
  }
 },
 "nbformat": 4,
 "nbformat_minor": 5
}
